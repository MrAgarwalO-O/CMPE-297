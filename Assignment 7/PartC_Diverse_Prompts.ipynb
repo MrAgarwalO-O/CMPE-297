{
  "nbformat": 4,
  "nbformat_minor": 0,
  "metadata": {
    "colab": {
      "provenance": []
    },
    "kernelspec": {
      "name": "python3",
      "display_name": "Python 3"
    },
    "language_info": {
      "name": "python"
    }
  },
  "cells": [
    {
      "cell_type": "code",
      "execution_count": 1,
      "metadata": {
        "colab": {
          "base_uri": "https://localhost:8080/"
        },
        "id": "MlOXl1kBgTce",
        "outputId": "3778141d-b867-4adb-9801-92d475427474"
      },
      "outputs": [
        {
          "output_type": "stream",
          "name": "stdout",
          "text": [
            "Requirement already satisfied: openai in /usr/local/lib/python3.10/dist-packages (1.54.5)\n",
            "Collecting openai\n",
            "  Downloading openai-1.57.0-py3-none-any.whl.metadata (24 kB)\n",
            "Requirement already satisfied: anyio<5,>=3.5.0 in /usr/local/lib/python3.10/dist-packages (from openai) (3.7.1)\n",
            "Requirement already satisfied: distro<2,>=1.7.0 in /usr/local/lib/python3.10/dist-packages (from openai) (1.9.0)\n",
            "Requirement already satisfied: httpx<1,>=0.23.0 in /usr/local/lib/python3.10/dist-packages (from openai) (0.28.0)\n",
            "Requirement already satisfied: jiter<1,>=0.4.0 in /usr/local/lib/python3.10/dist-packages (from openai) (0.8.0)\n",
            "Requirement already satisfied: pydantic<3,>=1.9.0 in /usr/local/lib/python3.10/dist-packages (from openai) (2.10.2)\n",
            "Requirement already satisfied: sniffio in /usr/local/lib/python3.10/dist-packages (from openai) (1.3.1)\n",
            "Requirement already satisfied: tqdm>4 in /usr/local/lib/python3.10/dist-packages (from openai) (4.66.6)\n",
            "Requirement already satisfied: typing-extensions<5,>=4.11 in /usr/local/lib/python3.10/dist-packages (from openai) (4.12.2)\n",
            "Requirement already satisfied: idna>=2.8 in /usr/local/lib/python3.10/dist-packages (from anyio<5,>=3.5.0->openai) (3.10)\n",
            "Requirement already satisfied: exceptiongroup in /usr/local/lib/python3.10/dist-packages (from anyio<5,>=3.5.0->openai) (1.2.2)\n",
            "Requirement already satisfied: certifi in /usr/local/lib/python3.10/dist-packages (from httpx<1,>=0.23.0->openai) (2024.8.30)\n",
            "Requirement already satisfied: httpcore==1.* in /usr/local/lib/python3.10/dist-packages (from httpx<1,>=0.23.0->openai) (1.0.7)\n",
            "Requirement already satisfied: h11<0.15,>=0.13 in /usr/local/lib/python3.10/dist-packages (from httpcore==1.*->httpx<1,>=0.23.0->openai) (0.14.0)\n",
            "Requirement already satisfied: annotated-types>=0.6.0 in /usr/local/lib/python3.10/dist-packages (from pydantic<3,>=1.9.0->openai) (0.7.0)\n",
            "Requirement already satisfied: pydantic-core==2.27.1 in /usr/local/lib/python3.10/dist-packages (from pydantic<3,>=1.9.0->openai) (2.27.1)\n",
            "Downloading openai-1.57.0-py3-none-any.whl (389 kB)\n",
            "\u001b[2K   \u001b[90m━━━━━━━━━━━━━━━━━━━━━━━━━━━━━━━━━━━━━━━━\u001b[0m \u001b[32m389.9/389.9 kB\u001b[0m \u001b[31m6.9 MB/s\u001b[0m eta \u001b[36m0:00:00\u001b[0m\n",
            "\u001b[?25hInstalling collected packages: openai\n",
            "  Attempting uninstall: openai\n",
            "    Found existing installation: openai 1.54.5\n",
            "    Uninstalling openai-1.54.5:\n",
            "      Successfully uninstalled openai-1.54.5\n",
            "Successfully installed openai-1.57.0\n"
          ]
        }
      ],
      "source": [
        "!pip install --upgrade openai\n",
        "\n",
        "import openai\n",
        "import os"
      ]
    },
    {
      "cell_type": "code",
      "source": [
        "from google.colab import userdata\n",
        "open_ai_api_key = userdata.get('OPENAI_API_KEY')"
      ],
      "metadata": {
        "id": "ChT3S5XXgWi4"
      },
      "execution_count": 2,
      "outputs": []
    },
    {
      "cell_type": "code",
      "source": [
        "import os\n",
        "os.environ[\"OPENAI_API_KEY\"] = open_ai_api_key"
      ],
      "metadata": {
        "id": "x3DMvGRigX_u"
      },
      "execution_count": 3,
      "outputs": []
    },
    {
      "cell_type": "code",
      "source": [
        "openai.api_key = os.environ['OPENAI_API_KEY']"
      ],
      "metadata": {
        "id": "c7tx1pk5gZLb"
      },
      "execution_count": 4,
      "outputs": []
    },
    {
      "cell_type": "markdown",
      "source": [
        "## **1. Human Resources (HR)**"
      ],
      "metadata": {
        "id": "JPb-v69ckBG0"
      }
    },
    {
      "cell_type": "code",
      "source": [
        "# HR Prompt 1: Employee Feedback\n",
        "prompt_1 = \"You are an HR manager. Write a professional email to an employee providing constructive feedback on missed deadlines.\"\n",
        "response_1 = openai.chat.completions.create(\n",
        "    model=\"gpt-3.5-turbo\",\n",
        "    messages=[{\"role\": \"user\", \"content\": prompt_1}],\n",
        "    max_tokens=150\n",
        ")\n",
        "print(\"HR Prompt 1 Response:\", response_1.choices[0].message.content.strip())\n",
        "\n",
        "\n"
      ],
      "metadata": {
        "colab": {
          "base_uri": "https://localhost:8080/"
        },
        "id": "YglnU_FAj9u_",
        "outputId": "15bc77bb-ccda-4e95-eebd-a705b36a634a"
      },
      "execution_count": 5,
      "outputs": [
        {
          "output_type": "stream",
          "name": "stdout",
          "text": [
            "HR Prompt 1 Response: Subject: Feedback on Missed Deadlines\n",
            "\n",
            "Dear [Employee],\n",
            "\n",
            "I hope this email finds you well. I wanted to take a moment to discuss some recent missed deadlines that have come to my attention. As an integral member of our team, it is crucial that we work together to ensure all tasks and projects are completed in a timely manner to maintain the success of our organization.\n",
            "\n",
            "It is important to understand the impact that missed deadlines can have on not only your own work, but also on the work of your colleagues and the overall productivity of the team. When deadlines are not met, it can create delays in project timelines, affect the quality of work produced, and ultimately hinder our ability to successfully achieve our goals.\n",
            "\n",
            "I want to offer some constructive feedback to\n"
          ]
        }
      ]
    },
    {
      "cell_type": "code",
      "source": [
        "# HR Prompt 2: Recruitment Advertisement\n",
        "prompt_2 = \"Draft a recruitment advertisement for a software developer role highlighting remote work and competitive salary.\"\n",
        "response_2 = openai.chat.completions.create(\n",
        "    model=\"gpt-3.5-turbo\",\n",
        "    messages=[{\"role\": \"user\", \"content\": prompt_2}],\n",
        "    max_tokens=150\n",
        ")\n",
        "print(\"HR Prompt 2 Response:\", response_2.choices[0].message.content.strip())\n",
        "\n"
      ],
      "metadata": {
        "colab": {
          "base_uri": "https://localhost:8080/"
        },
        "id": "AD10n2xvkeuM",
        "outputId": "fdfaeb80-5c13-4f8b-a678-78dd3491f2de"
      },
      "execution_count": 6,
      "outputs": [
        {
          "output_type": "stream",
          "name": "stdout",
          "text": [
            "HR Prompt 2 Response: Are you a talented software developer looking for a new challenge with the flexibility to work from anywhere? Look no further!\n",
            "\n",
            "We are seeking a skilled software developer to join our team on a remote basis. As a member of our team, you will have the freedom to work from the comfort of your own home while still contributing to exciting projects and collaborating with a diverse team of professionals.\n",
            "\n",
            "In addition to the convenience of remote work, we offer a competitive salary and benefits package to ensure that our developers are well-compensated for their hard work and dedication. Join us and take your career to the next level while enjoying the flexibility and work-life balance that remote work can offer.\n",
            "\n",
            "If you are a passionate software developer looking for a rewarding opportunity with great pay and the\n"
          ]
        }
      ]
    },
    {
      "cell_type": "code",
      "source": [
        "# HR Prompt 3: Conflict Resolution\n",
        "prompt_3 = \"Provide a step-by-step guide for resolving conflicts between two employees in a professional manner.\"\n",
        "response_3 = openai.chat.completions.create(\n",
        "    model=\"gpt-3.5-turbo\",\n",
        "    messages=[{\"role\": \"user\", \"content\": prompt_3}],\n",
        "    max_tokens=150\n",
        ")\n",
        "print(\"HR Prompt 3 Response:\", response_3.choices[0].message.content.strip())"
      ],
      "metadata": {
        "colab": {
          "base_uri": "https://localhost:8080/"
        },
        "id": "VqJOhLoKkf3r",
        "outputId": "fbdb8dea-993a-48ea-afd9-da8615135f7c"
      },
      "execution_count": 7,
      "outputs": [
        {
          "output_type": "stream",
          "name": "stdout",
          "text": [
            "HR Prompt 3 Response: 1. Meet with both employees separately to understand their perspectives on the conflict. Allow each employee to express their concerns, feelings, and perspectives without interruption.\n",
            "\n",
            "2. Identify the specific issue that is causing the conflict between the two employees. Ask questions to get to the root of the problem and determine what each employee believes is the cause of the conflict.\n",
            "\n",
            "3. Have a joint meeting with both employees to facilitate a discussion about the conflict. Encourage open communication and active listening from both parties. Set ground rules for the discussion, such as no interrupting, using \"I\" statements, and maintaining respect for one another.\n",
            "\n",
            "4. Encourage both employees to share their thoughts and feelings about the conflict and work towards finding common ground or a compromise. Help them\n"
          ]
        }
      ]
    },
    {
      "cell_type": "markdown",
      "source": [
        "## **2. Teaching**"
      ],
      "metadata": {
        "id": "6MEGtIrMkHiO"
      }
    },
    {
      "cell_type": "code",
      "source": [
        "# Teaching Prompt 1: Lesson Plan\n",
        "prompt_1 = \"Create a 30-minute lesson plan to teach 5th graders the basics of fractions using interactive activities.\"\n",
        "response_1 = openai.chat.completions.create(\n",
        "    model=\"gpt-3.5-turbo\",\n",
        "    messages=[{\"role\": \"user\", \"content\": prompt_1}],\n",
        "    max_tokens=200\n",
        ")\n",
        "print(\"Teaching Prompt 1 Response:\", response_1.choices[0].message.content.strip())\n",
        "\n",
        "\n"
      ],
      "metadata": {
        "colab": {
          "base_uri": "https://localhost:8080/"
        },
        "id": "M6cl_8b5kHGe",
        "outputId": "2bbbff38-50b1-4d88-8b31-252b4be0bebc"
      },
      "execution_count": 8,
      "outputs": [
        {
          "output_type": "stream",
          "name": "stdout",
          "text": [
            "Teaching Prompt 1 Response: Lesson Objective: Students will learn the basics of fractions, including identifying fractions, comparing fractions, and adding fractions.\n",
            "\n",
            "Materials needed:\n",
            "- Fraction manipulatives (such as fraction circles or bars)\n",
            "- Whiteboard and markers\n",
            "- Worksheets with fraction problems\n",
            "- Fraction cards (optional)\n",
            "\n",
            "Introduction (5 minutes):\n",
            "1. Begin the lesson by asking students what they know about fractions. Write the definition of a fraction on the whiteboard: A fraction is a number that represents a part of a whole.\n",
            "2. Show students examples of fractions using fraction manipulatives. Ask students to identify the numerator and denominator in each fraction.\n",
            "\n",
            "Activity 1: Identifying Fractions (10 minutes):\n",
            "1. Divide students into pairs or small groups.\n",
            "2. Give each group a set of fraction cards or pieces of fraction manipulatives.\n",
            "3. Have students take turns drawing a card or selecting a piece and identifying the fraction shown.\n",
            "4. Encourage students to practice reading fractions aloud by saying the numerator and denominator.\n"
          ]
        }
      ]
    },
    {
      "cell_type": "code",
      "source": [
        "# Teaching Prompt 2: Difficult Student Behavior\n",
        "prompt_2 = \"How can a teacher handle a disruptive student in a positive and constructive way?\"\n",
        "response_2 = openai.chat.completions.create(\n",
        "    model=\"gpt-3.5-turbo\",\n",
        "    messages=[{\"role\": \"user\", \"content\": prompt_2}],\n",
        "    max_tokens=150\n",
        ")\n",
        "print(\"Teaching Prompt 2 Response:\", response_2.choices[0].message.content.strip())\n",
        "\n"
      ],
      "metadata": {
        "colab": {
          "base_uri": "https://localhost:8080/"
        },
        "id": "zZwA4B1PkhWs",
        "outputId": "3589887d-9f39-458a-ef2d-a9ce108a1156"
      },
      "execution_count": 9,
      "outputs": [
        {
          "output_type": "stream",
          "name": "stdout",
          "text": [
            "Teaching Prompt 2 Response: 1. Identify the root cause of the disruptive behavior: Before addressing the behavior, try to understand why the student is acting out. Is it due to boredom, lack of understanding, frustration, or personal issues? This will help you approach the situation with empathy and address the underlying issue.\n",
            "\n",
            "2. Communicate with the student: Have a private conversation with the student to discuss their behavior. Listen to their perspective and provide them with opportunities to express themselves. Let them know that you care about their well-being and want to help them succeed.\n",
            "\n",
            "3. Set clear expectations: Clearly outline the expected behavior in the classroom and establish consequences for disruptive behavior. Make sure the student understands the expectations and consequences, and be consistent in enforcing them.\n",
            "\n",
            "4. Provide positive reinforcement\n"
          ]
        }
      ]
    },
    {
      "cell_type": "code",
      "source": [
        "# Teaching Prompt 3: Parent-Teacher Communication\n",
        "prompt_3 = \"Write an email to a parent about their child's improved performance in math.\"\n",
        "response_3 = openai.chat.completions.create(\n",
        "    model=\"gpt-3.5-turbo\",\n",
        "    messages=[{\"role\": \"user\", \"content\": prompt_3}],\n",
        "    max_tokens=150\n",
        ")\n",
        "print(\"Teaching Prompt 3 Response:\", response_3.choices[0].message.content.strip())"
      ],
      "metadata": {
        "colab": {
          "base_uri": "https://localhost:8080/"
        },
        "id": "lSymt6zkkihJ",
        "outputId": "9e93cdbe-4b4d-4020-cc3e-749e9c1b53e4"
      },
      "execution_count": 10,
      "outputs": [
        {
          "output_type": "stream",
          "name": "stdout",
          "text": [
            "Teaching Prompt 3 Response: Subject: Great Improvement in Your Child's Math Performance!\n",
            "\n",
            "Dear [Parent's Name],\n",
            "\n",
            "I hope this email finds you well. I am writing to share some fantastic news about your child's recent progress in math.\n",
            "\n",
            "I am thrilled to inform you that your child has shown a significant improvement in their math performance over the past few weeks. They have been consistently participating in class, asking insightful questions, and completing their assignments with great effort and dedication. As a result, their grades have noticeably improved and their understanding of mathematical concepts has become more solid.\n",
            "\n",
            "I am extremely proud of the effort and hard work that your child has been putting into their math studies. It is clear that they are committed to mastering the material and are taking their academic responsibilities seriously. I believe\n"
          ]
        }
      ]
    },
    {
      "cell_type": "markdown",
      "source": [
        "## **3. Finance**"
      ],
      "metadata": {
        "id": "hn9B8LnOkLUA"
      }
    },
    {
      "cell_type": "code",
      "source": [
        "# Finance Prompt 1: Budget Creation\n",
        "prompt_1 = \"Create a monthly budget for an individual earning $5,000 per month, saving 20%, and paying off debts.\"\n",
        "response_1 = openai.chat.completions.create(\n",
        "    model=\"gpt-3.5-turbo\",\n",
        "    messages=[{\"role\": \"user\", \"content\": prompt_1}],\n",
        "    max_tokens=150\n",
        ")\n",
        "print(\"Finance Prompt 1 Response:\", response_1.choices[0].message.content.strip())\n",
        "\n",
        "\n"
      ],
      "metadata": {
        "colab": {
          "base_uri": "https://localhost:8080/"
        },
        "id": "OIKlbgk1kX_D",
        "outputId": "664d8f27-c688-45ec-8531-0ff9f5f6458c"
      },
      "execution_count": 11,
      "outputs": [
        {
          "output_type": "stream",
          "name": "stdout",
          "text": [
            "Finance Prompt 1 Response: Monthly Income: $5,000\n",
            "\n",
            "Expenses:\n",
            "- Rent/Mortgage: $1,000\n",
            "- Utilities (electricity, water, internet, etc.): $200\n",
            "- Transportation (car payment, insurance, gas, etc.): $400\n",
            "- Groceries: $300\n",
            "- Dining out/Entertainment: $200\n",
            "- Health insurance: $300\n",
            "- Debt payments (credit card, student loans, etc.): $500\n",
            "- Savings (20% of income): $1,000\n",
            "\n",
            "Total Expenses: $3,900\n",
            "\n",
            "Remaining Income: $5,000 - $3,900 = $1,100\n",
            "\n",
            "After paying all monthly expenses and debt payments, the individual will have $1,100\n"
          ]
        }
      ]
    },
    {
      "cell_type": "code",
      "source": [
        "# Finance Prompt 2: Stock Market Basics\n",
        "prompt_2 = \"Explain the basics of stock market investing to someone new to finance in simple terms.\"\n",
        "response_2 = openai.chat.completions.create(\n",
        "    model=\"gpt-3.5-turbo\",\n",
        "    messages=[{\"role\": \"user\", \"content\": prompt_2}],\n",
        "    max_tokens=150\n",
        ")\n",
        "print(\"Finance Prompt 2 Response:\", response_2.choices[0].message.content.strip())\n",
        "\n"
      ],
      "metadata": {
        "colab": {
          "base_uri": "https://localhost:8080/"
        },
        "id": "4c8YpfwxkkG0",
        "outputId": "1b12b958-d8d6-4bfb-f8f9-1a0123c84ddc"
      },
      "execution_count": 12,
      "outputs": [
        {
          "output_type": "stream",
          "name": "stdout",
          "text": [
            "Finance Prompt 2 Response: Investing in the stock market means buying ownership in a company by purchasing shares of that company's stock. When you buy stock, you become a shareholder and have a stake in the company's success. \n",
            "\n",
            "The goal of investing in the stock market is to buy low and sell high, in order to make a profit. This is typically done by researching and selecting companies that are expected to grow in value over time.\n",
            "\n",
            "Stock prices can fluctuate based on a variety of factors, including the company's performance, economic conditions, market trends, and investor sentiment.\n",
            "\n",
            "It's important to do your research and diversify your investments to reduce risk. Some common ways to invest in the stock market include buying individual stocks, mutual funds, ETFs, and index funds\n"
          ]
        }
      ]
    },
    {
      "cell_type": "code",
      "source": [
        "# Finance Prompt 3: Financial Advice\n",
        "prompt_3 = \"Provide tips for someone planning to retire in 10 years with a focus on saving and investments.\"\n",
        "response_3 = openai.chat.completions.create(\n",
        "    model=\"gpt-3.5-turbo\",\n",
        "    messages=[{\"role\": \"user\", \"content\": prompt_3}],\n",
        "    max_tokens=150\n",
        ")\n",
        "print(\"Finance Prompt 3 Response:\", response_3.choices[0].message.content.strip())"
      ],
      "metadata": {
        "colab": {
          "base_uri": "https://localhost:8080/"
        },
        "id": "MtE4uwUjklT-",
        "outputId": "c248979f-12a7-46cb-addd-b259c937b3fd"
      },
      "execution_count": 13,
      "outputs": [
        {
          "output_type": "stream",
          "name": "stdout",
          "text": [
            "Finance Prompt 3 Response: 1. Start saving as much as you can now: The earlier you start saving for retirement, the more time your money has to grow. Aim to save at least 15% of your income each year, but the more you can save, the better.\n",
            "\n",
            "2. Maximize your employer-sponsored retirement accounts: Contribute the maximum amount allowed to your 401(k) or similar retirement plan. If your employer offers a match, make sure you are contributing enough to take full advantage of it.\n",
            "\n",
            "3. Diversify your investments: Spread your investments across a mix of asset classes, such as stocks, bonds, and real estate. This will help reduce risk and potentially increase returns.\n",
            "\n",
            "4. Consider hiring a financial advisor: A financial advisor can help\n"
          ]
        }
      ]
    },
    {
      "cell_type": "markdown",
      "source": [
        "## **4. Healthcare**"
      ],
      "metadata": {
        "id": "FmAZKroGkQ_q"
      }
    },
    {
      "cell_type": "code",
      "source": [
        "# Healthcare Prompt 1: Doctor's Note\n",
        "prompt_1 = \"Draft a doctor's note excusing a patient from work for two days due to flu symptoms.\"\n",
        "response_1 = openai.chat.completions.create(\n",
        "    model=\"gpt-3.5-turbo\",\n",
        "    messages=[{\"role\": \"user\", \"content\": prompt_1}],\n",
        "    max_tokens=100\n",
        ")\n",
        "print(\"Healthcare Prompt 1 Response:\", response_1.choices[0].message.content.strip())\n",
        "\n",
        "\n"
      ],
      "metadata": {
        "colab": {
          "base_uri": "https://localhost:8080/"
        },
        "id": "QE3D8pLfkYmh",
        "outputId": "acc261e0-b851-49bc-f658-6b4ac6611fed"
      },
      "execution_count": 14,
      "outputs": [
        {
          "output_type": "stream",
          "name": "stdout",
          "text": [
            "Healthcare Prompt 1 Response: [Medical Practice Name]\n",
            "[Address]\n",
            "[City, State, ZIP Code]\n",
            "[Phone Number]\n",
            "[Email Address]\n",
            "[Website]\n",
            "\n",
            "Date: [Date]\n",
            "\n",
            "To Whom It May Concern,\n",
            "\n",
            "This document serves as a doctor's note for [Patient's Name], who was seen at our medical practice on [Date].\n",
            "\n",
            "I have diagnosed [Patient's Name] with influenza (flu) symptoms, including fever, body aches, fatigue, and respiratory symptoms. In order to prevent the spread of the\n"
          ]
        }
      ]
    },
    {
      "cell_type": "code",
      "source": [
        "# Healthcare Prompt 2: Healthy Diet Advice\n",
        "prompt_2 = \"Provide a simple diet plan for someone trying to lose weight healthily.\"\n",
        "response_2 = openai.chat.completions.create(\n",
        "    model=\"gpt-3.5-turbo\",\n",
        "    messages=[{\"role\": \"user\", \"content\": prompt_2}],\n",
        "    max_tokens=150\n",
        ")\n",
        "print(\"Healthcare Prompt 2 Response:\", response_2.choices[0].message.content.strip())\n",
        "\n"
      ],
      "metadata": {
        "colab": {
          "base_uri": "https://localhost:8080/"
        },
        "id": "oIWm7JIckm_t",
        "outputId": "1f9f53dc-b362-490a-cb9e-55a091bae4df"
      },
      "execution_count": 15,
      "outputs": [
        {
          "output_type": "stream",
          "name": "stdout",
          "text": [
            "Healthcare Prompt 2 Response: Here is a simple diet plan for someone trying to lose weight healthily:\n",
            "\n",
            "Breakfast:\n",
            "- 1 whole grain toast with avocado\n",
            "- 1 poached egg\n",
            "- 1 cup of berries\n",
            "\n",
            "Lunch:\n",
            "- Grilled chicken salad with mixed greens, veggies, and a light vinaigrette dressing\n",
            "- 1 small apple\n",
            "\n",
            "Snack:\n",
            "- Greek yogurt with sliced almonds and honey\n",
            "\n",
            "Dinner:\n",
            "- Baked salmon with roasted vegetables\n",
            "- 1/2 cup of quinoa\n",
            "\n",
            "Snack:\n",
            "- Carrot sticks with hummus\n",
            "\n",
            "Remember to drink plenty of water throughout the day and avoid sugary drinks and processed foods. It is also important to listen to your body's hunger and fullness cues and practice portion\n"
          ]
        }
      ]
    },
    {
      "cell_type": "code",
      "source": [
        "# Healthcare Prompt 3: Patient Communication\n",
        "prompt_3 = \"Explain how a nurse can effectively communicate with an anxious patient.\"\n",
        "response_3 = openai.chat.completions.create(\n",
        "    model=\"gpt-3.5-turbo\",\n",
        "    messages=[{\"role\": \"user\", \"content\": prompt_3}],\n",
        "    max_tokens=150\n",
        ")\n",
        "print(\"Healthcare Prompt 3 Response:\", response_3.choices[0].message.content.strip())"
      ],
      "metadata": {
        "colab": {
          "base_uri": "https://localhost:8080/"
        },
        "id": "2v28tSGPkoGE",
        "outputId": "2cb91b93-90e3-481b-80b2-a7c8ba2ca6b7"
      },
      "execution_count": 16,
      "outputs": [
        {
          "output_type": "stream",
          "name": "stdout",
          "text": [
            "Healthcare Prompt 3 Response: Communicating effectively with an anxious patient is important in helping them feel calm and reassured. Here are some tips for nurses on how to communicate with an anxious patient:\n",
            "\n",
            "1. Approach the patient in a calm and reassuring manner: It is important for nurses to maintain a calm demeanor when communicating with an anxious patient. This can help to reassure the patient and make them feel more at ease.\n",
            "\n",
            "2. Use clear and simple language: Avoid using medical jargon or complicated terminology that may confuse the patient. Instead, use simple and easy-to-understand language to explain information to the patient.\n",
            "\n",
            "3. Listen actively: Allow the patient to express their concerns and fears and listen actively to what they have to say. This can help the patient feel heard and understood,\n"
          ]
        }
      ]
    },
    {
      "cell_type": "markdown",
      "source": [
        "## **5. Marketing**"
      ],
      "metadata": {
        "id": "UZh6RBr_kSoA"
      }
    },
    {
      "cell_type": "code",
      "source": [
        "# Marketing Prompt 1: Product Launch Email\n",
        "prompt_1 = \"Write a promotional email for the launch of a new eco-friendly water bottle.\"\n",
        "response_1 = openai.chat.completions.create(\n",
        "    model=\"gpt-3.5-turbo\",\n",
        "    messages=[{\"role\": \"user\", \"content\": prompt_1}],\n",
        "    max_tokens=150\n",
        ")\n",
        "print(\"Marketing Prompt 1 Response:\", response_1.choices[0].message.content.strip())\n",
        "\n",
        "\n"
      ],
      "metadata": {
        "colab": {
          "base_uri": "https://localhost:8080/"
        },
        "id": "GimOhjM1kZxh",
        "outputId": "ce19df49-6975-4c15-8569-d7d426cf348a"
      },
      "execution_count": 17,
      "outputs": [
        {
          "output_type": "stream",
          "name": "stdout",
          "text": [
            "Marketing Prompt 1 Response: Subject: Introducing Our New Eco-Friendly Water Bottle!\n",
            "\n",
            "Hey there!\n",
            "\n",
            "We are thrilled to announce the launch of our brand new eco-friendly water bottle! This sleek and stylish water bottle is not only great for staying hydrated throughout the day, but it is also made with the environment in mind.\n",
            "\n",
            "Our eco-friendly water bottle is made from 100% BPA-free materials and is completely reusable, helping to reduce the amount of plastic waste in our oceans and landfills. Plus, it is designed to keep your beverages cold for up to 24 hours or hot for up to 12 hours, so you can enjoy your favorite drinks at the perfect temperature, no matter where you are.\n",
            "\n",
            "Whether you are hitting the gym, heading to work, or exploring\n"
          ]
        }
      ]
    },
    {
      "cell_type": "code",
      "source": [
        "# Marketing Prompt 2: Social Media Campaign\n",
        "prompt_2 = \"Suggest a social media campaign to promote an online coding bootcamp.\"\n",
        "response_2 = openai.chat.completions.create(\n",
        "    model=\"gpt-3.5-turbo\",\n",
        "    messages=[{\"role\": \"user\", \"content\": prompt_2}],\n",
        "    max_tokens=150\n",
        ")\n",
        "print(\"Marketing Prompt 2 Response:\", response_2.choices[0].message.content.strip())\n",
        "\n"
      ],
      "metadata": {
        "colab": {
          "base_uri": "https://localhost:8080/"
        },
        "id": "Eq65Xj1ekpwA",
        "outputId": "e3bc037b-e2e3-48cc-8aa3-18de2bc304a8"
      },
      "execution_count": 18,
      "outputs": [
        {
          "output_type": "stream",
          "name": "stdout",
          "text": [
            "Marketing Prompt 2 Response: One possible social media campaign to promote an online coding bootcamp could include the following elements:\n",
            "\n",
            "1. Create engaging and informative content: Share blog posts, infographics, videos, and other content that highlights the benefits of learning to code, the success stories of past bootcamp graduates, and the unique features of the online coding bootcamp.\n",
            "\n",
            "2. Utilize targeted advertising: Use social media advertising platforms to target individuals who have expressed interest in coding, technology, or related fields. Create specific ad campaigns that showcase the value of the online coding bootcamp and its potential impact on career growth.\n",
            "\n",
            "3. Host live events and webinars: Organize live events and webinars featuring industry experts, alumni, and instructors from the online coding bootcamp. These events\n"
          ]
        }
      ]
    },
    {
      "cell_type": "code",
      "source": [
        "# Marketing Prompt 3: Brand Story\n",
        "prompt_3 = \"Create a compelling brand story for a small family-owned bakery.\"\n",
        "response_3 = openai.chat.completions.create(\n",
        "    model=\"gpt-3.5-turbo\",\n",
        "    messages=[{\"role\": \"user\", \"content\": prompt_3}],\n",
        "    max_tokens=150\n",
        ")\n",
        "print(\"Marketing Prompt 3 Response:\", response_3.choices[0].message.content.strip())"
      ],
      "metadata": {
        "colab": {
          "base_uri": "https://localhost:8080/"
        },
        "id": "3bPUKQG3kqqp",
        "outputId": "46dbd37a-f957-4656-b3ee-c61bd2c9866c"
      },
      "execution_count": 19,
      "outputs": [
        {
          "output_type": "stream",
          "name": "stdout",
          "text": [
            "Marketing Prompt 3 Response: Once upon a time in a quaint town nestled in the countryside, there was a small family-owned bakery called Sweet Serenity. The bakery was founded by Clara, a passionate baker who inherited her love for baking from her grandmother, who passed down her secret family recipes for mouth-watering pastries and delectable cakes.\n",
            "\n",
            "Clara, along with her husband Jack and their two children, Emily and Liam, poured their hearts and souls into creating a bakery that not only offered delicious treats but also served as a gathering place for the community. Sweet Serenity quickly became known for its warm and welcoming atmosphere, where customers were greeted with the intoxicating aroma of freshly baked goods and genuine smiles from the family behind the counter.\n",
            "\n",
            "As the bakery grew in popularity,\n"
          ]
        }
      ]
    }
  ]
}