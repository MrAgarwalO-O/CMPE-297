{
  "cells": [
    {
      "cell_type": "code",
      "source": [
        "!pip install -q -U google-generativeai"
      ],
      "metadata": {
        "id": "7PomJ1bslDb9"
      },
      "id": "7PomJ1bslDb9",
      "execution_count": 1,
      "outputs": []
    },
    {
      "cell_type": "code",
      "source": [
        "import requests\n",
        "import google.generativeai as genai\n",
        "from google.colab import userdata\n",
        "\n",
        "GOOGLE_API_KEY=userdata.get('GEMINI_API_KEY')\n",
        "genai.configure(api_key=GOOGLE_API_KEY)"
      ],
      "metadata": {
        "id": "FH3GTnhRlJ0A"
      },
      "id": "FH3GTnhRlJ0A",
      "execution_count": 2,
      "outputs": []
    },
    {
      "cell_type": "code",
      "source": [
        "def query_gemini(prompt, api_key):\n",
        "  model = genai.GenerativeModel(\"gemini-1.5-flash\")\n",
        "  response = model.generate_content(prompt)\n",
        "  return response.text"
      ],
      "metadata": {
        "id": "YgaPZvpGk-gt"
      },
      "id": "YgaPZvpGk-gt",
      "execution_count": 3,
      "outputs": []
    },
    {
      "cell_type": "markdown",
      "source": [
        "# 1. Code Generation and Debugging"
      ],
      "metadata": {
        "id": "ejPZjrI5umjm"
      },
      "id": "ejPZjrI5umjm"
    },
    {
      "cell_type": "code",
      "source": [
        "code_context = \"\"\"\n",
        "def calculate_sum(a, b):\n",
        "  # code to calculate sum of a and b\n",
        "  return result\n",
        "\"\"\"\n",
        "\n",
        "user_request = \"Fix the bug in the calculate_sum function.\"\n",
        "\n",
        "prompt = f\"\"\"\n",
        "Analyze the following code and address the user's request:\n",
        "\n",
        "Code Context: {code_context}\n",
        "\n",
        "User Request: {user_request}\n",
        "\"\"\"\n",
        "\n",
        "response = query_gemini(prompt, GOOGLE_API_KEY)\n",
        "print(response)"
      ],
      "metadata": {
        "colab": {
          "base_uri": "https://localhost:8080/",
          "height": 349
        },
        "id": "N3PJeLlhlXlD",
        "outputId": "7fc38bc8-4c01-4b34-ec1f-07efa62b78a9"
      },
      "id": "N3PJeLlhlXlD",
      "execution_count": 4,
      "outputs": [
        {
          "output_type": "stream",
          "name": "stdout",
          "text": [
            "The bug in the `calculate_sum` function is that it doesn't actually calculate the sum of `a` and `b`. It simply returns the variable `result`, which is undefined and will likely result in an error. \n",
            "\n",
            "Here's the corrected code:\n",
            "\n",
            "```python\n",
            "def calculate_sum(a, b):\n",
            "  # Calculate the sum of a and b\n",
            "  result = a + b\n",
            "  return result \n",
            "```\n",
            "\n",
            "**Explanation of the fix:**\n",
            "\n",
            "1. **Calculate the sum:** We've added `result = a + b` inside the function to perform the actual calculation.\n",
            "2. **Return the result:** The function now correctly returns the calculated `result`.\n",
            "\n",
            "With this fix, the `calculate_sum` function will now accurately calculate the sum of the two input parameters and return the correct value. \n",
            "\n"
          ]
        }
      ]
    },
    {
      "cell_type": "markdown",
      "source": [
        "# 2. Summaries"
      ],
      "metadata": {
        "id": "NhzNRdcNuuAt"
      },
      "id": "NhzNRdcNuuAt"
    },
    {
      "cell_type": "code",
      "source": [
        "projects = \"\"\"\n",
        "Project A: An initiative to develop a cutting-edge AI system to predict stock market trends with high accuracy.\n",
        "Project B: A healthcare project aimed at using machine learning to improve patient diagnosis processes.\n",
        "Project C: A sustainability project that focuses on reducing carbon emissions through intelligent urban planning.\n",
        "...\n",
        "\"\"\"\n",
        "prompt = f\"Provide a consolidated summary of the following projects:\\n\\n{projects}\"\n",
        "project_summaries = query_gemini(prompt, GOOGLE_API_KEY)\n",
        "print(\"Project Summaries:\\n\", project_summaries)"
      ],
      "metadata": {
        "colab": {
          "base_uri": "https://localhost:8080/",
          "height": 240
        },
        "id": "_8IX2oWfmdy_",
        "outputId": "3ca8d58e-9249-4372-8fd4-27bc798face8"
      },
      "id": "_8IX2oWfmdy_",
      "execution_count": 5,
      "outputs": [
        {
          "output_type": "stream",
          "name": "stdout",
          "text": [
            "Project Summaries:\n",
            " These projects represent a diverse range of applications for advanced technology, each tackling a different area of societal importance:\n",
            "\n",
            "**Project A:** Focuses on **financial technology** by leveraging AI to predict stock market fluctuations. This project aims to provide investors with a powerful tool for making informed decisions.\n",
            "\n",
            "**Project B:** Addresses **healthcare challenges** by using machine learning to enhance patient diagnosis. This initiative aims to improve accuracy and efficiency in identifying health conditions, leading to better patient outcomes.\n",
            "\n",
            "**Project C:** Addresses **environmental concerns** by employing intelligent urban planning to reduce carbon emissions. This project aims to create sustainable cities through optimized resource allocation and infrastructure development. \n",
            "\n",
            "These projects highlight the potential of technology to address key global challenges in finance, healthcare, and the environment. \n",
            "\n"
          ]
        }
      ]
    },
    {
      "cell_type": "markdown",
      "source": [
        "# 3. Interactive Learning Module"
      ],
      "metadata": {
        "id": "kXuO-4sfuy9K"
      },
      "id": "kXuO-4sfuy9K"
    },
    {
      "cell_type": "code",
      "source": [
        "student_questions = \"\"\"\n",
        "What is quantum computing?\n",
        "How does superposition enhance computing power?\n",
        "\"\"\"\n",
        "prompt = f\"Based on previous questions, explain the next concept in quantum computing:\\n\\n{student_questions}\"\n",
        "learning_module = query_gemini(prompt, GOOGLE_API_KEY)\n",
        "print(\"Interactive Learning Module:\\n\", learning_module)\n"
      ],
      "metadata": {
        "colab": {
          "base_uri": "https://localhost:8080/",
          "height": 609
        },
        "id": "8x0vWJWbtXDq",
        "outputId": "987fabd0-4304-44b4-8002-84e872869e54"
      },
      "id": "8x0vWJWbtXDq",
      "execution_count": 6,
      "outputs": [
        {
          "output_type": "stream",
          "name": "stdout",
          "text": [
            "Interactive Learning Module:\n",
            " You're right on track! You've established a great foundation by asking about quantum computing and superposition. Now, let's move on to the next concept: **Entanglement**.\n",
            "\n",
            "**Entanglement** is a fascinating phenomenon in quantum mechanics that allows two or more particles to become linked, no matter how far apart they are.  Here's how it relates to quantum computing:\n",
            "\n",
            "**1. The Basics of Entanglement:**\n",
            "\n",
            "* Imagine two coins flipped simultaneously. Normally, the outcome of one coin has no effect on the other.\n",
            "* In entanglement, the coins are \"linked\" in a way that if one coin lands heads, the other *must* land tails, and vice versa.\n",
            "* This \"link\" exists even if the coins are separated by a vast distance, making entanglement seem almost magical.\n",
            "\n",
            "**2. Entanglement in Quantum Computing:**\n",
            "\n",
            "* Entangled qubits (the quantum equivalent of bits) share a special connection.\n",
            "* When you measure one entangled qubit, you instantaneously know the state of the other, no matter the distance between them.\n",
            "* This connection allows for complex operations and calculations that are impossible with traditional computers.\n",
            "\n",
            "**3. The Power of Entanglement:**\n",
            "\n",
            "* Entanglement enhances computing power by allowing for parallel processing.\n",
            "* Instead of working on one bit at a time, entangled qubits can be manipulated simultaneously.\n",
            "* This allows quantum computers to tackle problems that are intractable for even the most powerful classical computers.\n",
            "\n",
            "**4. An Example:**\n",
            "\n",
            "* Imagine you're trying to find a specific item in a vast database. \n",
            "* A classical computer would have to search each entry one by one, taking a long time.\n",
            "* An entangled quantum computer could theoretically search all entries simultaneously using entanglement, finding the answer much faster.\n",
            "\n",
            "**In summary:** Entanglement is a fundamental principle in quantum mechanics that allows qubits to be linked together, enabling quantum computers to perform parallel computations and tackle problems that are impossible for classical computers. \n",
            "\n"
          ]
        }
      ]
    },
    {
      "cell_type": "markdown",
      "source": [
        "# 4. Scenario-Based Strategy Development"
      ],
      "metadata": {
        "id": "w1KSLWDNu4lc"
      },
      "id": "w1KSLWDNu4lc"
    },
    {
      "cell_type": "code",
      "source": [
        "market_scenario = \"\"\"\n",
        "The gaming industry is expected to grow by 20% in the next year.\n",
        "\"\"\"\n",
        "prompt = f\"Develop a business strategy for a gaming company based on the following market scenario:\\n\\n{market_scenario}\"\n",
        "strategy_plan = query_gemini(prompt, GOOGLE_API_KEY)\n",
        "print(\"Business Strategy:\\n\", strategy_plan)\n"
      ],
      "metadata": {
        "colab": {
          "base_uri": "https://localhost:8080/",
          "height": 960
        },
        "id": "VDzE5-Odto7e",
        "outputId": "6028f282-cd9d-4d93-a22c-73a60ffb6e93"
      },
      "id": "VDzE5-Odto7e",
      "execution_count": 9,
      "outputs": [
        {
          "output_type": "stream",
          "name": "stdout",
          "text": [
            "Business Strategy:\n",
            " ## Business Strategy for a Gaming Company in a Growing Market:\n",
            "\n",
            "**Context:**  The gaming industry is booming, with a projected 20% growth in the next year. This presents a significant opportunity for gaming companies to capitalize on increased demand and expand their market share.\n",
            "\n",
            "**Overall Strategy:**  To thrive in this dynamic environment, the company must focus on **growth, innovation, and customer engagement.** This strategy will be built around three key pillars:\n",
            "\n",
            "**1. Expanding Reach and Market Share:**\n",
            "\n",
            "* **Target new demographics:**  Identify and cater to underserved demographics within the gaming community, such as older gamers, women, and mobile-first players. Develop games and marketing campaigns tailored to their preferences.\n",
            "* **Embrace new platforms:** Expand to new platforms like mobile, cloud gaming, and VR/AR to reach a wider audience. Develop or adapt existing games for these platforms.\n",
            "* **Strategic partnerships:** Collaborate with established players in the industry, such as game developers, publishers, and influencers, to cross-promote games and expand reach.\n",
            "\n",
            "**2. Driving Innovation and Differentiation:**\n",
            "\n",
            "* **Develop unique gameplay experiences:** Invest in research and development to create innovative games with compelling storylines, fresh mechanics, and engaging gameplay. Focus on building a strong intellectual property portfolio.\n",
            "* **Leverage emerging technologies:** Implement cutting-edge technologies like AI, blockchain, and metaverse to enhance games, create new experiences, and build innovative monetization models.\n",
            "* **Build a strong community:** Foster a vibrant community around your games through social media, online forums, and in-game events. This will drive engagement, generate user feedback, and enhance brand loyalty.\n",
            "\n",
            "**3. Prioritizing Customer Engagement and Retention:**\n",
            "\n",
            "* **Focus on user experience:** Optimize game mechanics and user interfaces to ensure a seamless and engaging experience for all players.\n",
            "* **Implement robust customer support:** Provide prompt and efficient customer support channels to address player concerns and build trust.\n",
            "* **Reward player loyalty:** Offer exclusive content, discounts, and rewards for loyal players to incentivize continued engagement.\n",
            "* **Data-driven decision making:** Track player data and analyze user behavior to understand preferences and optimize game design and marketing strategies.\n",
            "\n",
            "**Specific Actionable Steps:**\n",
            "\n",
            "* **Develop a comprehensive market research plan** to identify target demographics, gaming trends, and competitor analysis.\n",
            "* **Allocate resources for game development and innovation** to create cutting-edge experiences.\n",
            "* **Invest in marketing and advertising campaigns** targeted at specific demographics and platforms.\n",
            "* **Build a strong online presence** through social media, streaming platforms, and community forums.\n",
            "* **Implement a customer relationship management (CRM) system** to track player data and engagement.\n",
            "\n",
            "**Key Metrics:**\n",
            "\n",
            "* Player acquisition and retention rate\n",
            "* Average revenue per user (ARPU)\n",
            "* Customer satisfaction ratings\n",
            "* Brand awareness and social media engagement\n",
            "\n",
            "**Success Factors:**\n",
            "\n",
            "* Strong leadership with a clear vision for growth and innovation.\n",
            "* A talented team with expertise in game development, marketing, and technology.\n",
            "* A robust financial strategy to support growth initiatives.\n",
            "* An unwavering focus on delivering a high-quality user experience.\n",
            "\n",
            "**Conclusion:**  By following this strategy, the gaming company can capitalize on the booming market and position itself for long-term success. The key is to be agile, innovative, and deeply connected with the gaming community. \n",
            "\n"
          ]
        }
      ]
    },
    {
      "cell_type": "markdown",
      "source": [
        "# 5. Culinary Recipe Generation"
      ],
      "metadata": {
        "id": "kmGc9YLAu7kr"
      },
      "id": "kmGc9YLAu7kr"
    },
    {
      "cell_type": "code",
      "source": [
        "used_ingredients = \"chicken, garlic, onion, tomato, coriander\"\n",
        "prompt = f\"Generate a new recipe using the following ingredients that have been used previously:\\n\\n{used_ingredients}\"\n",
        "new_recipe = query_gemini(prompt, GOOGLE_API_KEY)\n",
        "print(\"New Recipe:\\n\", new_recipe)\n"
      ],
      "metadata": {
        "colab": {
          "base_uri": "https://localhost:8080/",
          "height": 940
        },
        "id": "IA_erch3t7KT",
        "outputId": "93c76cad-7502-4234-a0d0-078e8dac2137"
      },
      "id": "IA_erch3t7KT",
      "execution_count": 10,
      "outputs": [
        {
          "output_type": "stream",
          "name": "stdout",
          "text": [
            "New Recipe:\n",
            " ## Spicy Chicken and Tomato Curry with Coriander Rice\n",
            "\n",
            "This recipe combines familiar flavors in a comforting and flavorful curry, perfect for a weeknight dinner.\n",
            "\n",
            "**Ingredients:**\n",
            "\n",
            "* 1 lb boneless, skinless chicken thighs, cut into bite-sized pieces\n",
            "* 1 large onion, chopped\n",
            "* 4 cloves garlic, minced\n",
            "* 1 tbsp grated fresh ginger\n",
            "* 1 (28 oz) can diced tomatoes, undrained\n",
            "* 1/2 cup chicken broth\n",
            "* 1 tbsp curry powder\n",
            "* 1 tsp ground cumin\n",
            "* 1/2 tsp chili powder (or more to taste)\n",
            "* 1/4 cup chopped fresh cilantro\n",
            "* Salt and pepper to taste\n",
            "* 1 cup long grain rice\n",
            "* 2 cups water\n",
            "* 1 tbsp olive oil\n",
            "\n",
            "**Instructions:**\n",
            "\n",
            "**For the Curry:**\n",
            "\n",
            "1. Heat olive oil in a large pot or Dutch oven over medium heat. Add chicken and cook until browned on all sides. \n",
            "2. Add onion and garlic and cook until softened, about 5 minutes. Stir in ginger, curry powder, cumin, and chili powder. Cook for 1 minute, stirring constantly.\n",
            "3. Add diced tomatoes and chicken broth. Bring to a simmer, then reduce heat and cover. Simmer for 15-20 minutes, or until chicken is cooked through. \n",
            "4. Stir in cilantro and season with salt and pepper to taste.\n",
            "\n",
            "**For the Rice:**\n",
            "\n",
            "1. While the curry is simmering, rinse the rice in a fine mesh strainer until the water runs clear. \n",
            "2. Add rice and water to a saucepan. Bring to a boil, then reduce heat to a simmer, cover, and cook for 15-20 minutes, or until the rice is tender and the liquid is absorbed.\n",
            "\n",
            "**To Serve:**\n",
            "\n",
            "1. Fluff the cooked rice with a fork. \n",
            "2. Serve the chicken curry over a bed of rice. Garnish with extra chopped cilantro, if desired.\n",
            "\n",
            "**Tips:**\n",
            "\n",
            "* For a richer flavor, use bone-in chicken thighs and simmer the curry for a longer time.\n",
            "* You can substitute the chicken broth with coconut milk for a creamy, flavorful curry.\n",
            "* Feel free to adjust the spice level by adding more or less chili powder.\n",
            "* To make this recipe vegetarian, replace the chicken with chickpeas or tofu. \n",
            "\n",
            "Enjoy this flavorful and satisfying chicken curry! \n",
            "\n"
          ]
        }
      ]
    },
    {
      "cell_type": "markdown",
      "source": [
        "# 6. Advanced Technical Support"
      ],
      "metadata": {
        "id": "4YfbD0NUu9r3"
      },
      "id": "4YfbD0NUu9r3"
    },
    {
      "cell_type": "code",
      "source": [
        "technical_issue = \"Server repeatedly crashes during high-traffic periods.\"\n",
        "prompt = f\"Generate a troubleshooting guide based on previous similar issues:\\n\\n{technical_issue}\"\n",
        "troubleshooting_guide = query_gemini(prompt, GOOGLE_API_KEY)\n",
        "print(\"Troubleshooting Guide:\\n\", troubleshooting_guide)\n"
      ],
      "metadata": {
        "colab": {
          "base_uri": "https://localhost:8080/",
          "height": 1000
        },
        "id": "KZHgHZs4uL0x",
        "outputId": "f4e41f2d-0639-44cd-aa6f-dfde96242c7d"
      },
      "id": "KZHgHZs4uL0x",
      "execution_count": 11,
      "outputs": [
        {
          "output_type": "stream",
          "name": "stdout",
          "text": [
            "Troubleshooting Guide:\n",
            " ## Server Crashing During High Traffic: Troubleshooting Guide\n",
            "\n",
            "**Issue:** Server repeatedly crashes during periods of high traffic.\n",
            "\n",
            "**Possible Causes:**\n",
            "\n",
            "* **Resource Exhaustion:**\n",
            "    * **Memory:** Insufficient memory allocated or memory leaks leading to high memory consumption.\n",
            "    * **CPU:** CPU overload due to excessive processing demands or inefficient code.\n",
            "    * **Disk Space:** Insufficient disk space for logging, temporary files, or database operations.\n",
            "* **Software Bugs:**\n",
            "    * **Code Errors:** Unhandled exceptions, memory leaks, or logic errors causing crashes.\n",
            "    * **Third-Party Software:** Bugs in external libraries or plugins.\n",
            "    * **Database Issues:** Deadlocks, database connection issues, or query performance problems.\n",
            "* **System Configuration Issues:**\n",
            "    * **Network Bandwidth:** Insufficient network bandwidth to handle traffic.\n",
            "    * **Security Settings:** Firewall rules blocking traffic or improper configuration.\n",
            "* **Hardware Problems:**\n",
            "    * **CPU Overheating:** Overclocking or inadequate cooling leading to CPU failure.\n",
            "    * **Hard Drive Failure:** Disk corruption or physical failure impacting performance.\n",
            "    * **RAM Errors:** Faulty RAM modules causing instability.\n",
            "\n",
            "**Troubleshooting Steps:**\n",
            "\n",
            "1. **Monitor System Resources:**\n",
            "    * Use system monitoring tools like `top`, `htop`, or resource monitors to identify resource usage patterns during crashes.\n",
            "    * Analyze memory usage, CPU load, disk space, and network bandwidth.\n",
            "2. **Analyze Error Logs:**\n",
            "    * Check server logs (e.g., `/var/log/syslog`, application logs) for error messages related to crashes.\n",
            "    * Examine database logs for any errors or performance issues.\n",
            "3. **Test Code for Errors:**\n",
            "    * Use debuggers or logging to identify and fix potential code errors.\n",
            "    * Consider running stress tests or load testing to simulate high traffic conditions.\n",
            "4. **Optimize System Configuration:**\n",
            "    * **Increase Memory:** Allocate more memory to the server if needed.\n",
            "    * **Optimize CPU Usage:** Profile code for bottlenecks and optimize for better performance.\n",
            "    * **Manage Disk Space:** Clean up temporary files, optimize database queries, and monitor disk space usage.\n",
            "    * **Configure Network:** Ensure sufficient bandwidth and optimize network settings.\n",
            "5. **Check Hardware:**\n",
            "    * **CPU Overheating:** Ensure proper cooling and monitor CPU temperature.\n",
            "    * **Hard Drive Health:** Monitor hard drive health using tools like `smartctl` or `chkdsk`.\n",
            "    * **RAM Errors:** Run memory diagnostics to check for faulty RAM modules.\n",
            "\n",
            "**Additional Tips:**\n",
            "\n",
            "* **Implement Performance Monitoring:** Use tools to track performance metrics and identify potential issues before crashes occur.\n",
            "* **Enable Crash Dump Analysis:** Configure the server to generate crash dumps for analysis.\n",
            "* **Consider Load Balancing:** Distribute traffic across multiple servers to reduce the load on a single server.\n",
            "* **Regularly Update Software:** Ensure all software (operating system, libraries, and applications) are updated to address known vulnerabilities and performance issues.\n",
            "\n",
            "**Note:** The specific troubleshooting steps may vary depending on the server's operating system, application, and configuration. It's essential to have a good understanding of the server's environment and the application's codebase to effectively diagnose and resolve the issue. \n",
            "\n"
          ]
        }
      ]
    },
    {
      "cell_type": "markdown",
      "source": [
        "# 7. Creative Writing and Content Generation"
      ],
      "metadata": {
        "id": "DTAxxNZXu_dA"
      },
      "id": "DTAxxNZXu_dA"
    },
    {
      "cell_type": "code",
      "source": [
        "story_outline = \"\"\"\n",
        "The story follows a young girl named Lily who discovers a magical forest hidden behind her grandmother's house. In the forest, she meets mystical creatures who are at odds with a dark force threatening their world. Lily embarks on an adventure to help the creatures restore balance to their land, uncovering hidden powers within herself along the way.\n",
        "\"\"\"\n",
        "\n",
        "writing_style = \"\"\"\n",
        "The writing style should be whimsical and imaginative, reminiscent of classic children's fantasy tales like 'Alice in Wonderland' or 'The Chronicles of Narnia.' The tone should be adventurous, with vivid descriptions of the magical forest and creatures, but also convey a sense of wonder and innocence through the eyes of Lily.\n",
        "\"\"\"\n",
        "\n",
        "\n",
        "prompt = f\"\"\"\n",
        "Generate creative content based on the provided story outline and writing style:\n",
        "\n",
        "Story Outline: {story_outline}\n",
        "\n",
        "Writing Style: {writing_style}\n",
        "\"\"\"\n",
        "\n",
        "response = query_gemini(prompt, GOOGLE_API_KEY)\n",
        "print(response)"
      ],
      "metadata": {
        "colab": {
          "base_uri": "https://localhost:8080/",
          "height": 406
        },
        "id": "hWDI927QuXSx",
        "outputId": "0948483d-fa11-44ec-f77c-0a3bb037a91a"
      },
      "id": "hWDI927QuXSx",
      "execution_count": 12,
      "outputs": [
        {
          "output_type": "stream",
          "name": "stdout",
          "text": [
            "The scent of honeysuckle and the whisper of the wind lured Lily towards the overgrown patch behind her grandmother's house. A place where sunlight barely dared to penetrate, where tangled vines and moss-covered stones held secrets untold. One day, a glint of sunlight caught her eye, piercing the dense foliage. Curiosity sparked within her, an ember of adventure ignited. \n",
            "\n",
            "With a deep breath and a skip in her step, Lily pushed through the woven barrier of branches. The world before her shimmered and swayed, like a dream painted on a canvas of emerald green. Towering trees, their branches reaching for the sky like grasping hands, stood sentinel over a land bathed in the soft glow of an endless twilight. \n",
            "\n",
            "This wasn't just any forest. This was a place where the air itself hummed with magic, where the whispers of leaves held secrets, and the chirping of unseen creatures carried melodies of enchantment. \n",
            "\n",
            "A giggle, like the tinkling of a crystal stream, drew Lily deeper into the heart of the forest. There, perched atop a mushroom taller than she was, sat a creature with wings like stained glass, a mischievous grin on its face.\n",
            "\n",
            "\"Well, hello there, little one,\" it said, its voice like the chiming of bells. \"Welcome to the Whispering Woods.\" \n",
            "\n",
            "Lily, wide-eyed with wonder, learned the creature was a Whisperwing, and the forest, their sacred haven. But a darkness was encroaching, threatening to consume the magic that sustained their world. The Whisperwings needed Lily's help. \n",
            "\n",
            "Thus began her journey. She met a family of giggling Sylvans who guided her through hidden pathways, their laughter echoing through the trees. She befriended a grumpy but wise Old Oak, whose roots held ancient knowledge and whispered secrets of the forest. \n",
            "\n",
            "Lily, though small, possessed a courage that belied her age.  Her heart, pure and full of wonder, became a beacon, drawing upon the magic within the Whispering Woods and her own. She discovered she could speak with the animals, understand the language of the trees, and even command the very wind itself. \n",
            "\n",
            "Her journey was fraught with danger. She faced shadow creatures, their forms twisted and corrupted by the encroaching darkness, and encountered the malevolent force seeking to claim the Whispering Woods for its own. Yet, with the help of her newfound friends, and the courage that blossomed within her, Lily faced each challenge head-on. \n",
            "\n",
            "For Lily understood that true bravery wasn't about size or strength, but about the courage to believe in the magic within yourself and the power of hope to overcome darkness. And as she stood at the heart of the Whispering Woods, the magic swirling around her like a protective shield, she knew that the world was a better place, not just because of the magic she had found, but because of the magic she had unlocked within herself. \n",
            "\n"
          ]
        }
      ]
    },
    {
      "cell_type": "markdown",
      "source": [
        "# 8. Multilingual Customer Support"
      ],
      "metadata": {
        "id": "XToSDOAEvZAS"
      },
      "id": "XToSDOAEvZAS"
    },
    {
      "cell_type": "code",
      "source": [
        "customer_query = \"Can you help me reset my password?\"\n",
        "prompt_en = f\"Respond to the customer's query in English:\\n\\n{customer_query}\"\n",
        "prompt_es = f\"Translate the following response into Spanish and respond:\\n\\n{customer_query}\"\n",
        "response_en = query_gemini(prompt_en, GOOGLE_API_KEY)\n",
        "response_es = query_gemini(prompt_es, GOOGLE_API_KEY)\n",
        "print(\"Response in English:\\n\", response_en)\n",
        "print(\"Response in Spanish:\\n\", response_es)\n"
      ],
      "metadata": {
        "colab": {
          "base_uri": "https://localhost:8080/",
          "height": 405
        },
        "id": "mTTITYsYvYeb",
        "outputId": "1e88e3bc-2762-43e2-c168-30bf95dd75b8"
      },
      "id": "mTTITYsYvYeb",
      "execution_count": 13,
      "outputs": [
        {
          "output_type": "stream",
          "name": "stdout",
          "text": [
            "Response in English:\n",
            " Of course! I can help you reset your password. \n",
            "\n",
            "To get started, could you please tell me:\n",
            "\n",
            "* **What website or service are you trying to reset the password for?** \n",
            "* **What email address is associated with the account?**\n",
            "\n",
            "Once I have that information, I can guide you through the password reset process. \n",
            "\n",
            "Response in Spanish:\n",
            " ¿Puedes ayudarme a restablecer mi contraseña? \n",
            "\n",
            "**Translation:** Can you help me reset my password?\n",
            "\n",
            "**Response:**\n",
            "\n",
            "Claro que sí. Por favor, dime tu dirección de correo electrónico y te enviaré un enlace para restablecer tu contraseña. \n",
            "\n",
            "**Translation:** Of course. Please tell me your email address and I will send you a link to reset your password. \n",
            "\n"
          ]
        }
      ]
    },
    {
      "cell_type": "markdown",
      "source": [
        "# 9. Historical Event Expansion"
      ],
      "metadata": {
        "id": "L7YyJFNzvzUf"
      },
      "id": "L7YyJFNzvzUf"
    },
    {
      "cell_type": "code",
      "source": [
        "historical_event = \"In 1947, India gained independence from British rule.\"\n",
        "prompt = f\"Expand on this historical event with more details:\\n\\n{historical_event}\"\n",
        "event_expansion = query_gemini(prompt, GOOGLE_API_KEY)\n",
        "print(\"Historical Event Expansion:\\n\", event_expansion)\n"
      ],
      "metadata": {
        "colab": {
          "base_uri": "https://localhost:8080/",
          "height": 609
        },
        "id": "pAKF8KcUvzH-",
        "outputId": "83c1f721-1cc7-40b7-f786-d8d0d5e14127"
      },
      "id": "pAKF8KcUvzH-",
      "execution_count": 14,
      "outputs": [
        {
          "output_type": "stream",
          "name": "stdout",
          "text": [
            "Historical Event Expansion:\n",
            " ## The Dawn of Independence: India in 1947\n",
            "\n",
            "**The Long Road to Freedom:** \n",
            "\n",
            "India's independence in 1947 marked the culmination of a centuries-long struggle against British colonial rule. The seeds of resistance were sown during the Sepoy Mutiny of 1857, which, though ultimately suppressed, ignited a powerful nationalist movement. The Indian National Congress, founded in 1885, emerged as a major force advocating for self-governance. Leaders like Mahatma Gandhi, with his philosophy of non-violent civil disobedience, and Jawaharlal Nehru, with his vision of a modern, independent India, shaped the movement's course.\n",
            "\n",
            "**Partition and its Aftermath:**\n",
            "\n",
            "While independence was a historic victory, it was marred by the traumatic partition of India and Pakistan. This division, spurred by religious tensions and political aspirations, resulted in massive displacement, communal violence, and untold human suffering. Millions were forced to flee their homes, creating a humanitarian crisis of unprecedented proportions. \n",
            "\n",
            "**The Birth of Two Nations:**\n",
            "\n",
            "On August 15, 1947, India and Pakistan officially gained independence. The newly formed nations inherited a complex legacy of colonial administration, economic disparity, and religious and social divisions. \n",
            "\n",
            "**A New Era Begins:**\n",
            "\n",
            "Despite the immense challenges, India embarked on a journey of nation-building.  Nehru, India's first Prime Minister, laid the foundations for a democratic, secular, and socialist state. The country adopted a constitution based on principles of equality, justice, and liberty.  \n",
            "\n",
            "**Key Events and Developments:**\n",
            "\n",
            "* **The Quit India Movement (1942):** A nationwide call for British withdrawal, initiated by Gandhi, intensified the struggle for freedom.\n",
            "* **The Cabinet Mission Plan (1946):**  A British plan to provide India with self-governance, ultimately paving the way for independence.\n",
            "* **Mountbatten Plan (1947):**  Lord Mountbatten, the last Viceroy of India, proposed a rapid transfer of power, leading to the partition of India and Pakistan.\n",
            "* **The Independence Act (1947):**  The British Parliament passed the act granting independence to India and Pakistan.\n",
            "* **The Transfer of Power Ceremony (1947):**  The historic event where the British flag was lowered and the Indian flag was hoisted, signifying the end of colonial rule.\n",
            "\n",
            "**A Legacy of Hope and Struggle:**\n",
            "\n",
            "India's independence remains a pivotal moment in history, not only for the nation but for the global anti-colonial movement. It symbolizes the triumph of the human spirit, the power of non-violent resistance, and the pursuit of self-determination.  However, the legacy of partition continues to cast a long shadow, serving as a reminder of the complex and often painful realities of decolonization. \n",
            "\n"
          ]
        }
      ]
    },
    {
      "cell_type": "markdown",
      "source": [
        "# 10. Virtual Event Planning"
      ],
      "metadata": {
        "id": "H7tguhqPwZcN"
      },
      "id": "H7tguhqPwZcN"
    },
    {
      "cell_type": "code",
      "source": [
        "event_feedback = \"\"\"\n",
        "Feedback from Event 1: Lack of interactive sessions.\n",
        "Feedback from Event 2: Praise for guest speakers.\n",
        "\"\"\"\n",
        "prompt = f\"Plan a virtual event using feedback from previous events:\\n\\n{event_feedback}\"\n",
        "event_plan = query_gemini(prompt, GOOGLE_API_KEY)\n",
        "print(\"Virtual Event Plan:\\n\", event_plan)\n"
      ],
      "metadata": {
        "colab": {
          "base_uri": "https://localhost:8080/",
          "height": 1000
        },
        "id": "_BH00dPuwbi5",
        "outputId": "45cfe569-deca-4bcf-c45c-d302cc5c55d6"
      },
      "id": "_BH00dPuwbi5",
      "execution_count": 15,
      "outputs": [
        {
          "output_type": "stream",
          "name": "stdout",
          "text": [
            "Virtual Event Plan:\n",
            " ## Virtual Event Plan: Leveraging Feedback\n",
            "\n",
            "**Event Title:**  [Insert Event Title] \n",
            "\n",
            "**Target Audience:**  [Insert Target Audience]\n",
            "\n",
            "**Event Goals:** \n",
            "\n",
            "* **Enhance engagement:** Address feedback from Event 1 by incorporating interactive sessions.\n",
            "* **Showcase thought leadership:** Build upon the positive feedback from Event 2 by featuring engaging guest speakers.\n",
            "* **Generate leads/build brand awareness:** [Insert specific goal based on event objectives]\n",
            "\n",
            "**Event Format:** \n",
            "\n",
            "* **Hybrid:** Combine live elements (e.g., speaker sessions) with pre-recorded content and interactive activities.\n",
            "* **Duration:** [Insert duration of event, e.g., Half-day, Full-day, Multi-day]\n",
            "* **Platform:** [Choose suitable virtual event platform, e.g., Zoom, Hopin, etc.]\n",
            "\n",
            "**Event Agenda:**\n",
            "\n",
            "**Morning Session:**\n",
            "\n",
            "* **Welcome & Introductions:** Brief welcome message, event overview, and introductions of key stakeholders. (15 mins)\n",
            "* **Keynote Speaker:** Feature a high-profile guest speaker known for their expertise in [Insert topic relevant to event theme]. (45 mins)\n",
            "* **Interactive Breakout Session 1:**  [Insert topic relevant to the event theme] -  This session could include a live Q&A with the speaker, a poll-based discussion, or a collaborative whiteboard exercise.  (30 mins)\n",
            "* **Pre-recorded Content:**  Showcase a short, engaging video on a relevant topic. (15 mins)\n",
            "* **Break:**  (15 mins)\n",
            "\n",
            "**Afternoon Session:**\n",
            "\n",
            "* **Keynote Speaker:**  A second guest speaker known for their insights in [Insert relevant topic]. (45 mins)\n",
            "* **Interactive Breakout Session 2:**  [Insert topic relevant to the event theme] -  This session could be a virtual networking event using breakout rooms, a live Q&A with the speaker, or a gamified interactive session. (30 mins)\n",
            "* **Panel Discussion:**   A panel discussion featuring industry experts discussing [Insert relevant topic]. (45 mins)\n",
            "* **Wrap-up & Q&A:** Summary of event highlights, call to action, and open Q&A session. (30 mins)\n",
            "\n",
            "**Interactive Elements:**\n",
            "\n",
            "* **Live Q&A sessions:** Encourage audience participation with Q&A segments during speaker sessions.\n",
            "* **Polls and surveys:** Use interactive polling to gauge audience interest and gather insights during presentations and discussions.\n",
            "* **Virtual networking:**  Facilitate networking opportunities through dedicated breakout rooms, virtual booths, or networking tools within the platform.\n",
            "* **Gamification:**  Incorporate interactive games or challenges to boost engagement and provide a more entertaining experience.\n",
            "\n",
            "**Marketing & Promotion:**\n",
            "\n",
            "* **Email marketing:** Promote the event through targeted email campaigns highlighting key speakers and interactive elements.\n",
            "* **Social media:** Utilize relevant hashtags and create engaging content on social media platforms.\n",
            "* **Partnerships:** Collaborate with relevant industry partners to expand reach and promote the event to their networks.\n",
            "\n",
            "**Evaluation & Feedback:**\n",
            "\n",
            "* **Post-event survey:**  Gather feedback from attendees on the content, speakers, interactive elements, and overall experience.\n",
            "* **Social media monitoring:** Track event-related conversations and sentiment on social media platforms.\n",
            "* **Platform analytics:** Analyze platform data (e.g., attendance, engagement metrics) to understand event performance.\n",
            "\n",
            "**Conclusion:**\n",
            "\n",
            "By addressing the feedback from previous events, incorporating interactive elements, and showcasing engaging guest speakers, this virtual event plan aims to provide a valuable and engaging experience for attendees. By leveraging best practices and gathering feedback, the event can continuously improve and adapt for future iterations. \n",
            "\n"
          ]
        }
      ]
    }
  ],
  "metadata": {
    "colab": {
      "provenance": [],
      "toc_visible": true
    },
    "language_info": {
      "name": "python"
    },
    "kernelspec": {
      "name": "python3",
      "display_name": "Python 3"
    }
  },
  "nbformat": 4,
  "nbformat_minor": 5
}