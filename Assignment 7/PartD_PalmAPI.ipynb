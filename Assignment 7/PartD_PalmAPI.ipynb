{
  "nbformat": 4,
  "nbformat_minor": 0,
  "metadata": {
    "colab": {
      "provenance": []
    },
    "kernelspec": {
      "name": "python3",
      "display_name": "Python 3"
    },
    "language_info": {
      "name": "python"
    }
  },
  "cells": [
    {
      "cell_type": "code",
      "execution_count": 1,
      "metadata": {
        "id": "5I99-x5blta5"
      },
      "outputs": [],
      "source": [
        "# Install the Google Generative AI Client Library\n",
        "!pip install google-generativeai --quiet\n",
        "\n",
        "# Import necessary libraries\n",
        "import google.generativeai as palm\n",
        "import os\n",
        "\n"
      ]
    },
    {
      "cell_type": "code",
      "source": [
        "import google.generativeai as genai"
      ],
      "metadata": {
        "id": "XtZeRjfrm94i"
      },
      "execution_count": 8,
      "outputs": []
    },
    {
      "cell_type": "code",
      "source": [
        "from google.colab import userdata\n",
        "api_key = userdata.get('GEMINI_API_KEY')"
      ],
      "metadata": {
        "id": "xrRETtSil4uM"
      },
      "execution_count": 2,
      "outputs": []
    },
    {
      "cell_type": "code",
      "source": [
        "import os\n",
        "os.environ[\"GEMINI_API_KEY\"] = api_key"
      ],
      "metadata": {
        "id": "NyfuegrdmDfE"
      },
      "execution_count": 3,
      "outputs": []
    },
    {
      "cell_type": "code",
      "source": [
        "palm.configure(api_key=api_key)"
      ],
      "metadata": {
        "id": "7pjqmtW0mKH9"
      },
      "execution_count": 4,
      "outputs": []
    },
    {
      "cell_type": "markdown",
      "source": [
        "## **Text Generation Example**"
      ],
      "metadata": {
        "id": "tRY7h9X-nSXW"
      }
    },
    {
      "cell_type": "code",
      "source": [
        "model = genai.GenerativeModel('gemini-pro')\n",
        "\n",
        "# Define the prompt\n",
        "prompt = \"Once upon a time in a land far, far away,\"\n",
        "\n",
        "# Generate a response\n",
        "response = model.generate_content(prompt)\n",
        "\n",
        "# Display the generated text\n",
        "print(response.text)\n"
      ],
      "metadata": {
        "colab": {
          "base_uri": "https://localhost:8080/",
          "height": 54
        },
        "id": "TC1svQexmXOk",
        "outputId": "3777aabe-d799-465f-8ea9-3dd4cf17c1d6"
      },
      "execution_count": 13,
      "outputs": [
        {
          "output_type": "stream",
          "name": "stdout",
          "text": [
            "Once upon a time, in a land far, far away, nestled amidst rolling hills and shimmering streams, there was a magical kingdom called Eldoria. Its inhabitants were an extraordinary blend of elves, fairies, and dragons, each possessing unique powers and enchanting abilities. Within the heart of this mystical realm, a captivating tale unfolded, filled with adventure, wonder, and a touch of mischief.\n"
          ]
        }
      ]
    },
    {
      "cell_type": "markdown",
      "source": [
        "## **Text Summarization Example**"
      ],
      "metadata": {
        "id": "cmoRMAYLnTbE"
      }
    },
    {
      "cell_type": "code",
      "source": [
        "# Define the text to summarize\n",
        "text_to_summarize = \"\"\"\n",
        "Artificial intelligence (AI) refers to the simulation of human intelligence in machines that are programmed to think and learn like humans. These machines can perform tasks such as recognizing speech, making decisions, and translating languages. AI has various applications in fields like healthcare, finance, and transportation, and continues to evolve rapidly, impacting many aspects of daily life.\n",
        "\"\"\"\n",
        "\n",
        "\n",
        "prompt = \"Summarize the following text: \" + text_to_summarize\n",
        "# Generate a summary\n",
        "response = model.generate_content(prompt)\n",
        "\n",
        "# Display the summary\n",
        "print(response.text)\n"
      ],
      "metadata": {
        "colab": {
          "base_uri": "https://localhost:8080/",
          "height": 54
        },
        "id": "91eO1Kk3nVdX",
        "outputId": "7fa86bdc-febf-485a-8be2-2b96f42ef41d"
      },
      "execution_count": 16,
      "outputs": [
        {
          "output_type": "stream",
          "name": "stdout",
          "text": [
            "Artificial intelligence (AI) empowers machines to mimic human intelligence by learning, thinking, and performing tasks like speech recognition, decision-making, and language translation. It finds applications in healthcare, finance, and transportation, and its rapid advancement is shaping various aspects of daily life.\n"
          ]
        }
      ]
    },
    {
      "cell_type": "markdown",
      "source": [
        "## **Text Translation Example**"
      ],
      "metadata": {
        "id": "osDUbc2rnt1R"
      }
    },
    {
      "cell_type": "code",
      "source": [
        "# Define the text to translate\n",
        "text_to_translate = \"Hello, how are you?\"\n",
        "\n",
        "prompt = \"Translate the following text to Spanish: \" + text_to_translate\n",
        "\n",
        "# Generate the translation\n",
        "response = model.generate_content(prompt)\n",
        "\n",
        "# Display the summary\n",
        "print(response.text)\n"
      ],
      "metadata": {
        "colab": {
          "base_uri": "https://localhost:8080/",
          "height": 34
        },
        "id": "14TD1jtgnvy6",
        "outputId": "1bdf770f-4409-4c48-8273-8a62d0c8ef17"
      },
      "execution_count": 18,
      "outputs": [
        {
          "output_type": "stream",
          "name": "stdout",
          "text": [
            "Hola, ¿cómo estás?\n"
          ]
        }
      ]
    },
    {
      "cell_type": "markdown",
      "source": [
        "## **Sentiment Analysis Example**"
      ],
      "metadata": {
        "id": "BYpLEL7un4XK"
      }
    },
    {
      "cell_type": "code",
      "source": [
        "# Define the text for sentiment analysis\n",
        "text_for_analysis = \"I am extremely happy with the service provided.\"\n",
        "\n",
        "\n",
        "prompt=\"Analyze the sentiment of the following text: \" + text_for_analysis\n",
        "\n",
        "response = model.generate_content(prompt)\n",
        "\n",
        "# Display the summary\n",
        "print(response.text)"
      ],
      "metadata": {
        "colab": {
          "base_uri": "https://localhost:8080/",
          "height": 34
        },
        "id": "uJCFV6Gin6HT",
        "outputId": "555aca83-6ae8-4f70-e7b4-e42aa228aae8"
      },
      "execution_count": 19,
      "outputs": [
        {
          "output_type": "stream",
          "name": "stdout",
          "text": [
            "Positive\n"
          ]
        }
      ]
    },
    {
      "cell_type": "markdown",
      "source": [
        "## **Question Answering Example**"
      ],
      "metadata": {
        "id": "mt_OTlzpn7To"
      }
    },
    {
      "cell_type": "code",
      "source": [
        "# Define the context and question\n",
        "context = \"\"\"\n",
        "The Eiffel Tower is a wrought-iron lattice tower on the Champ de Mars in Paris, France. It is named after the engineer Gustave Eiffel, whose company designed and built the tower.\n",
        "\"\"\"\n",
        "question = \"Who designed the Eiffel Tower?\"\n",
        "\n",
        "\n",
        "prompt = context + question\n",
        "\n",
        "# Generate the answer\n",
        "response = model.generate_content(prompt)\n",
        "\n",
        "# Display the answer\n",
        "print(response.text)\n"
      ],
      "metadata": {
        "colab": {
          "base_uri": "https://localhost:8080/",
          "height": 34
        },
        "id": "Q6txJ45in9Ak",
        "outputId": "716ace75-e5d0-42b5-a17b-1904f4a5db60"
      },
      "execution_count": 23,
      "outputs": [
        {
          "output_type": "stream",
          "name": "stdout",
          "text": [
            "Gustave Eiffel\n"
          ]
        }
      ]
    },
    {
      "cell_type": "markdown",
      "source": [
        "## **Code Generation Example**"
      ],
      "metadata": {
        "id": "OqQ2O1J1n-JX"
      }
    },
    {
      "cell_type": "code",
      "source": [
        "# Define the task\n",
        "task_description = \"Write a Python function that calculates the factorial of a number.\"\n",
        "\n",
        "# Generate the code\n",
        "response = model.generate_content(task_description)\n",
        "\n",
        "# Display the generated code\n",
        "print(response.text)\n"
      ],
      "metadata": {
        "colab": {
          "base_uri": "https://localhost:8080/",
          "height": 295
        },
        "id": "KdGRj2qYoASY",
        "outputId": "6c54b1d8-bac5-4e4b-e9dc-2b407765dc5e"
      },
      "execution_count": 25,
      "outputs": [
        {
          "output_type": "stream",
          "name": "stdout",
          "text": [
            "```python\n",
            "def factorial(n):\n",
            "  \"\"\"Calculates the factorial of a number.\n",
            "\n",
            "  Args:\n",
            "    n: The number to calculate the factorial of.\n",
            "\n",
            "  Returns:\n",
            "    The factorial of the number.\n",
            "  \"\"\"\n",
            "\n",
            "  if n == 0:\n",
            "    return 1\n",
            "  else:\n",
            "    return n * factorial(n - 1)\n",
            "```\n"
          ]
        }
      ]
    },
    {
      "cell_type": "markdown",
      "source": [
        "## **Text Completion Example**"
      ],
      "metadata": {
        "id": "BYAC9-YIoCY3"
      }
    },
    {
      "cell_type": "code",
      "source": [
        "# Define the incomplete text\n",
        "incomplete_text = \"The quick brown fox jumps over\"\n",
        "\n",
        "# Generate the completion\n",
        "response = model.generate_content(incomplete_text)\n",
        "\n",
        "# Display the completed text\n",
        "print(response.text)\n"
      ],
      "metadata": {
        "colab": {
          "base_uri": "https://localhost:8080/",
          "height": 34
        },
        "id": "Ro6vTkDdoEh-",
        "outputId": "54cf15de-4dc2-4a48-9a4a-b45a6c9d853f"
      },
      "execution_count": 26,
      "outputs": [
        {
          "output_type": "stream",
          "name": "stdout",
          "text": [
            "the lazy dog\n"
          ]
        }
      ]
    },
    {
      "cell_type": "markdown",
      "source": [
        "## **Paraphrasing Example**"
      ],
      "metadata": {
        "id": "l01RAJWLoF5Q"
      }
    },
    {
      "cell_type": "code",
      "source": [
        "# Define the sentence to paraphrase\n",
        "sentence_to_paraphrase = \"Artificial intelligence is transforming the world.\"\n",
        "\n",
        "prompt = \"Paraphrase the following sentence: \" + sentence_to_paraphrase\n",
        "\n",
        "# Generate the paraphrased sentence\n",
        "response = model.generate_content(prompt)\n",
        "\n",
        "# Display the paraphrased sentence\n",
        "print(response.text)\n"
      ],
      "metadata": {
        "colab": {
          "base_uri": "https://localhost:8080/",
          "height": 34
        },
        "id": "UoNGpvIOoJZw",
        "outputId": "27603059-bcff-443c-9654-c14fa3d0bfd2"
      },
      "execution_count": 27,
      "outputs": [
        {
          "output_type": "stream",
          "name": "stdout",
          "text": [
            "Technological advancements in artificial intelligence are shaping and reshaping the global landscape.\n"
          ]
        }
      ]
    },
    {
      "cell_type": "markdown",
      "source": [
        "## **Grammar Correction Example**"
      ],
      "metadata": {
        "id": "j8WlimQYoJz2"
      }
    },
    {
      "cell_type": "code",
      "source": [
        "# Define the sentence with grammatical errors\n",
        "sentence_with_errors = \"Why you here not coming\"\n",
        "\n",
        "prompt = \"Correct the grammar of the following sentence:\" + sentence_with_errors\n",
        "\n",
        "# Generate the paraphrased sentence\n",
        "response = model.generate_content(prompt)\n",
        "\n",
        "# Display the paraphrased sentence\n",
        "print(response.text)\n",
        "\n"
      ],
      "metadata": {
        "colab": {
          "base_uri": "https://localhost:8080/",
          "height": 34
        },
        "id": "E3cPZXZ3oMEV",
        "outputId": "f7e1da03-5180-4cd7-dcba-b11ce0b788a6"
      },
      "execution_count": 30,
      "outputs": [
        {
          "output_type": "stream",
          "name": "stdout",
          "text": [
            "Why aren't you coming here?\n"
          ]
        }
      ]
    }
  ]
}